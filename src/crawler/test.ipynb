{
 "cells": [
  {
   "cell_type": "code",
   "execution_count": 17,
   "id": "d52b7307",
   "metadata": {},
   "outputs": [],
   "source": [
    "import utils\n",
    "import datetime\n",
    "import re"
   ]
  },
  {
   "cell_type": "markdown",
   "id": "8134661a",
   "metadata": {},
   "source": [
    "## Test car"
   ]
  },
  {
   "cell_type": "code",
   "execution_count": 67,
   "id": "700629b7",
   "metadata": {},
   "outputs": [],
   "source": [
    "base_url = \"https://bonbanh.com/\""
   ]
  },
  {
   "cell_type": "code",
   "execution_count": 82,
   "id": "f4c17011",
   "metadata": {},
   "outputs": [],
   "source": [
    "tree = utils.get_tree_from_url(base_url+\"xe-mercedes_benz-g_class-g63-amg-2019-6453524\")"
   ]
  },
  {
   "cell_type": "code",
   "execution_count": 83,
   "id": "c3a51f0d",
   "metadata": {},
   "outputs": [],
   "source": [
    "info = tree.xpath(\"//span[@class='inp']/text()\")"
   ]
  },
  {
   "cell_type": "code",
   "execution_count": 84,
   "id": "68b661c2",
   "metadata": {},
   "outputs": [],
   "source": [
    "def format_info(info):\n",
    "    for i in range(len(info)):\n",
    "        info[i] = info[i].strip()\n",
    "        if i in {0, 9, 10}:\n",
    "            info[i] = int(re.search(r'\\d+', info[i].replace('.', '')).group())\n",
    "    return info"
   ]
  },
  {
   "cell_type": "code",
   "execution_count": 85,
   "id": "0366c90b",
   "metadata": {},
   "outputs": [
    {
     "data": {
      "text/plain": [
       "[2019,\n",
       " 'Xe đã dùng',\n",
       " '18,000 Km',\n",
       " 'Nhập khẩu',\n",
       " 'SUV',\n",
       " 'Số tự động',\n",
       " 'Xăng  4.0 L',\n",
       " 'Đen',\n",
       " 'Nâu',\n",
       " 5,\n",
       " 5,\n",
       " 'AWD - 4 bánh toàn thời gian']"
      ]
     },
     "execution_count": 85,
     "metadata": {},
     "output_type": "execute_result"
    }
   ],
   "source": [
    "format_info(info)"
   ]
  },
  {
   "cell_type": "code",
   "execution_count": 86,
   "id": "f74d57f5",
   "metadata": {},
   "outputs": [
    {
     "data": {
      "text/plain": [
       "'29/09/2025'"
      ]
     },
     "execution_count": 86,
     "metadata": {},
     "output_type": "execute_result"
    }
   ],
   "source": [
    "date = re.search(r'\\d+/\\d+/\\d+', tree.xpath(\"//div[@class='notes']/text()\")[0].strip()).group()\n",
    "date"
   ]
  },
  {
   "cell_type": "code",
   "execution_count": 87,
   "id": "a5d5e99c",
   "metadata": {},
   "outputs": [
    {
     "data": {
      "text/plain": [
       "'Hà Nội Hà Nội'"
      ]
     },
     "execution_count": 87,
     "metadata": {},
     "output_type": "execute_result"
    }
   ],
   "source": [
    "add = tree.xpath(\"//div[@class='contact-txt']/text()\")[4].strip().removeprefix(\"Địa chỉ: \").strip()\n",
    "add"
   ]
  },
  {
   "cell_type": "code",
   "execution_count": 88,
   "id": "8c752893",
   "metadata": {},
   "outputs": [
    {
     "data": {
      "text/plain": [
       "'Mercedes Benz'"
      ]
     },
     "execution_count": 88,
     "metadata": {},
     "output_type": "execute_result"
    }
   ],
   "source": [
    "tree.xpath(\"//span[@itemprop='name']/strong/text()\")[0]"
   ]
  },
  {
   "cell_type": "code",
   "execution_count": 89,
   "id": "9ac73b16",
   "metadata": {},
   "outputs": [],
   "source": [
    "def _get_detailed_info(tree) -> dict:\n",
    "    try:\n",
    "        keys = ['year', 'status', 'kilometers', 'origin', 'type_car', 'gear', 'engine', 'color', 'interior_color', 'seats', 'doors', 'transmission']\n",
    "        car_info = {}\n",
    "        info = format_info(tree.xpath(\"//span[@class='inp']/text()\"))\n",
    "        car_info = dict(zip(keys, info))\n",
    "        car_info['brand'] = tree.xpath(\"//span[@itemprop='name']/strong/text()\")[0]\n",
    "        car_info['name_car'] = tree.xpath(\"//span[@itemprop='name']/strong/text()\")[1]\n",
    "        car_info['pulished_date'] = re.search(r'\\d+/\\d+/\\d+', tree.xpath(\"//div[@class='notes']/text()\")[0].strip()).group()\n",
    "        car_info['andress'] = add = tree.xpath(\"//div[@class='contact-txt']/text()\")[4].strip().removeprefix(\"Địa chỉ: \").strip()\n",
    "        return car_info\n",
    "    except Exception as e:\n",
    "        print(f\"Error getting detailed info: {e}\")\n",
    "        return {}"
   ]
  },
  {
   "cell_type": "code",
   "execution_count": 90,
   "id": "4ff05b9b",
   "metadata": {},
   "outputs": [
    {
     "data": {
      "text/plain": [
       "{'year': 2019,\n",
       " 'status': 'Xe đã dùng',\n",
       " 'kilometers': '18,000 Km',\n",
       " 'origin': 'Nhập khẩu',\n",
       " 'type_car': 'SUV',\n",
       " 'gear': 'Số tự động',\n",
       " 'engine': 'Xăng  4.0 L',\n",
       " 'color': 'Đen',\n",
       " 'interior_color': 'Nâu',\n",
       " 'seats': 5,\n",
       " 'doors': 5,\n",
       " 'transmission': 'AWD - 4 bánh toàn thời gian',\n",
       " 'brand': 'Mercedes Benz',\n",
       " 'name_car': 'G class',\n",
       " 'pulished_date': '29/09/2025',\n",
       " 'andress': 'Hà Nội Hà Nội'}"
      ]
     },
     "execution_count": 90,
     "metadata": {},
     "output_type": "execute_result"
    }
   ],
   "source": [
    "car = _get_detailed_info(tree)\n",
    "car"
   ]
  },
  {
   "cell_type": "code",
   "execution_count": 91,
   "id": "94b05670",
   "metadata": {},
   "outputs": [],
   "source": [
    "car.update({'id': 1, 'href': 1, 'price': 1, 'crawled_date': 1})"
   ]
  },
  {
   "cell_type": "code",
   "execution_count": 92,
   "id": "800b810c",
   "metadata": {},
   "outputs": [
    {
     "data": {
      "text/plain": [
       "{'year': 2019,\n",
       " 'status': 'Xe đã dùng',\n",
       " 'kilometers': '18,000 Km',\n",
       " 'origin': 'Nhập khẩu',\n",
       " 'type_car': 'SUV',\n",
       " 'gear': 'Số tự động',\n",
       " 'engine': 'Xăng  4.0 L',\n",
       " 'color': 'Đen',\n",
       " 'interior_color': 'Nâu',\n",
       " 'seats': 5,\n",
       " 'doors': 5,\n",
       " 'transmission': 'AWD - 4 bánh toàn thời gian',\n",
       " 'brand': 'Mercedes Benz',\n",
       " 'name_car': 'G class',\n",
       " 'pulished_date': '29/09/2025',\n",
       " 'andress': 'Hà Nội Hà Nội',\n",
       " 'id': 1,\n",
       " 'href': 1,\n",
       " 'price': 1,\n",
       " 'crawled_date': 1}"
      ]
     },
     "execution_count": 92,
     "metadata": {},
     "output_type": "execute_result"
    }
   ],
   "source": [
    "car"
   ]
  },
  {
   "cell_type": "markdown",
   "id": "6b3723fb",
   "metadata": {},
   "source": [
    "## Test url"
   ]
  },
  {
   "cell_type": "code",
   "execution_count": 93,
   "id": "bc161477",
   "metadata": {},
   "outputs": [],
   "source": [
    "tree = utils.get_tree_from_url(\"https://bonbanh.com/ha-noi/oto/\")"
   ]
  },
  {
   "cell_type": "code",
   "execution_count": 94,
   "id": "530cb3f1",
   "metadata": {},
   "outputs": [
    {
     "data": {
      "text/plain": [
       "['xe-mercedes_benz-g_class-g63-amg-2019-6453524',\n",
       " 'xe-mclaren-720s-4.0-v8-2018-6245719',\n",
       " 'xe-porsche-cayenne-3.0-v6-2019-6352983',\n",
       " 'xe-lexus-rx-350-luxury-2024-6102577',\n",
       " 'xe-kia-sedona-2.2-dat-luxury-2021-6453520',\n",
       " 'xe-mitsubishi-triton-4x2-at-mivec-2021-6424235',\n",
       " 'xe-mercedes_benz-g_class-g63-amg-2021-6341928',\n",
       " 'xe-toyota-camry-2.0-mt-1989-5801345',\n",
       " 'xe-chevrolet-trailblazer-ltz-2.5l-vgt-4x4-at-2018-6374084',\n",
       " 'xe-vinfast-vf8-eco-awd-2023-6453517',\n",
       " 'xe-audi-a6-2.0-tfsi-2014-6398071',\n",
       " 'xe-landrover-range_rover-autobiography-lwb-black-edition-2015-6453523',\n",
       " 'xe-ford-mustang-mach-e-gt-eawd-2021-4872043',\n",
       " 'xe-ford-ranger-raptor-2.0l-4x4-at-2022-6453522',\n",
       " 'xe-mitsubishi-outlander-premium-2.0-cvt-2021-6453519',\n",
       " 'xe-toyota-vios-e-1.5-mt-2025-6405984',\n",
       " 'xe-mercedes_benz-e_class-e250-2010-6073364',\n",
       " 'xe-mazda-3-1.5-at-2015-6453518',\n",
       " 'xe-vinfast-lux_a_2.0-premium-2.0-at-2019-6203068',\n",
       " 'xe-porsche-911-carrera-2021-6453514']"
      ]
     },
     "execution_count": 94,
     "metadata": {},
     "output_type": "execute_result"
    }
   ],
   "source": [
    "hrefs = tree.xpath(\"//li[@class='car-item row1']/a/@href\") + tree.xpath(\"//li[@class='car-item row2']/a/@href\")\n",
    "hrefs"
   ]
  }
 ],
 "metadata": {
  "kernelspec": {
   "display_name": "airflow-env",
   "language": "python",
   "name": "python3"
  },
  "language_info": {
   "codemirror_mode": {
    "name": "ipython",
    "version": 3
   },
   "file_extension": ".py",
   "mimetype": "text/x-python",
   "name": "python",
   "nbconvert_exporter": "python",
   "pygments_lexer": "ipython3",
   "version": "3.9.23"
  }
 },
 "nbformat": 4,
 "nbformat_minor": 5
}
