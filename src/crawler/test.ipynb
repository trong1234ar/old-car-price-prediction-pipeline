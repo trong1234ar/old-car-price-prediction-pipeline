{
 "cells": [
  {
   "cell_type": "code",
   "execution_count": 65,
   "id": "d52b7307",
   "metadata": {},
   "outputs": [],
   "source": [
    "import utils\n",
    "import datetime"
   ]
  },
  {
   "cell_type": "code",
   "execution_count": 2,
   "id": "f4c17011",
   "metadata": {},
   "outputs": [],
   "source": [
    "tree = utils.get_tree_from_url(\"https://bonbanh.com/xe-vinfast-lux_sa_2.0-base-2.0-at-2021-6437532\")"
   ]
  },
  {
   "cell_type": "code",
   "execution_count": 26,
   "id": "83318e4d",
   "metadata": {},
   "outputs": [],
   "source": [
    "ids = tree.xpath(\"//div[@class='breadcrum']/span[last()]/text()\")"
   ]
  },
  {
   "cell_type": "code",
   "execution_count": 27,
   "id": "4d8125c6",
   "metadata": {},
   "outputs": [
    {
     "data": {
      "text/plain": [
       "'6437532'"
      ]
     },
     "execution_count": 27,
     "metadata": {},
     "output_type": "execute_result"
    }
   ],
   "source": [
    "import re\n",
    "\n",
    "number = re.search(r'\\d+', ids[0]).group()\n",
    "number"
   ]
  },
  {
   "cell_type": "code",
   "execution_count": 60,
   "id": "9bb800e2",
   "metadata": {},
   "outputs": [],
   "source": [
    "for i in range(len(ids)):\n",
    "    ids[i] = int(re.search(r'\\d+', ids[i]).group())"
   ]
  },
  {
   "cell_type": "code",
   "execution_count": 59,
   "id": "c3a51f0d",
   "metadata": {},
   "outputs": [],
   "source": [
    "info = tree.xpath(\"//span[@class='inp']/text()\")"
   ]
  },
  {
   "cell_type": "code",
   "execution_count": 63,
   "id": "68b661c2",
   "metadata": {},
   "outputs": [],
   "source": [
    "def format_info(info):\n",
    "    for i in range(len(info)):\n",
    "        info[i] = info[i].strip()\n",
    "        if i in {0, 9, 10}:\n",
    "            info[i] = int(re.search(r'\\d+', info[i].replace('.', '')).group())\n",
    "    return info"
   ]
  },
  {
   "cell_type": "code",
   "execution_count": 64,
   "id": "0366c90b",
   "metadata": {},
   "outputs": [
    {
     "data": {
      "text/plain": [
       "[2021,\n",
       " 'Xe đã dùng',\n",
       " '80,000 Km',\n",
       " 'Lắp ráp trong nước',\n",
       " 'SUV',\n",
       " 'Số tự động',\n",
       " 'Xăng  2.0 L',\n",
       " 'Đỏ',\n",
       " 'Nâu',\n",
       " 7,\n",
       " 5,\n",
       " 'RFD - Dẫn động cầu sau']"
      ]
     },
     "execution_count": 64,
     "metadata": {},
     "output_type": "execute_result"
    }
   ],
   "source": [
    "format_info(info)"
   ]
  },
  {
   "cell_type": "code",
   "execution_count": 52,
   "id": "f74d57f5",
   "metadata": {},
   "outputs": [
    {
     "data": {
      "text/plain": [
       "'28/09/2025'"
      ]
     },
     "execution_count": 52,
     "metadata": {},
     "output_type": "execute_result"
    }
   ],
   "source": [
    "date = re.search(r'\\d+/\\d+/\\d+', tree.xpath(\"//div[@class='notes']/text()\")[0].strip()).group()\n",
    "date"
   ]
  },
  {
   "cell_type": "code",
   "execution_count": null,
   "id": "a5d5e99c",
   "metadata": {},
   "outputs": [
    {
     "data": {
      "text/plain": [
       "'Số 20 Nguyễn Văn Cừ, Long Biên Hà Nội'"
      ]
     },
     "execution_count": 46,
     "metadata": {},
     "output_type": "execute_result"
    }
   ],
   "source": [
    "add = tree.xpath(\"//div[@class='contact-txt']/text()\")[4].strip().removeprefix(\"Địa chỉ: \").strip()"
   ]
  },
  {
   "cell_type": "code",
   "execution_count": 51,
   "id": "8c752893",
   "metadata": {},
   "outputs": [
    {
     "data": {
      "text/plain": [
       "'Lux SA 2.0'"
      ]
     },
     "execution_count": 51,
     "metadata": {},
     "output_type": "execute_result"
    }
   ],
   "source": [
    "tree.xpath(\"//span[@itemprop='name']/strong/text()\")[1]"
   ]
  }
 ],
 "metadata": {
  "kernelspec": {
   "display_name": "airflow-env",
   "language": "python",
   "name": "python3"
  },
  "language_info": {
   "codemirror_mode": {
    "name": "ipython",
    "version": 3
   },
   "file_extension": ".py",
   "mimetype": "text/x-python",
   "name": "python",
   "nbconvert_exporter": "python",
   "pygments_lexer": "ipython3",
   "version": "3.9.23"
  }
 },
 "nbformat": 4,
 "nbformat_minor": 5
}
